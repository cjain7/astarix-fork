{
 "cells": [
  {
   "cell_type": "code",
   "execution_count": 1,
   "id": "hazardous-christmas",
   "metadata": {},
   "outputs": [],
   "source": [
    "from header import *\n",
    "plt.rcParams.update({'font.size': 14})"
   ]
  },
  {
   "cell_type": "code",
   "execution_count": 2,
   "id": "sunset-farmer",
   "metadata": {},
   "outputs": [
    {
     "data": {
      "text/html": [
       "<div>\n",
       "<style scoped>\n",
       "    .dataframe tbody tr th:only-of-type {\n",
       "        vertical-align: middle;\n",
       "    }\n",
       "\n",
       "    .dataframe tbody tr th {\n",
       "        vertical-align: top;\n",
       "    }\n",
       "\n",
       "    .dataframe thead th {\n",
       "        text-align: right;\n",
       "    }\n",
       "</style>\n",
       "<table border=\"1\" class=\"dataframe\">\n",
       "  <thead>\n",
       "    <tr style=\"text-align: right;\">\n",
       "      <th></th>\n",
       "      <th>ref</th>\n",
       "      <th>refsize</th>\n",
       "      <th>algo</th>\n",
       "      <th>operation</th>\n",
       "      <th>memory</th>\n",
       "      <th>len</th>\n",
       "      <th>read</th>\n",
       "      <th>spell</th>\n",
       "      <th>cost</th>\n",
       "      <th>starts</th>\n",
       "      <th>pushed</th>\n",
       "      <th>popped</th>\n",
       "      <th>repeat_rate</th>\n",
       "      <th>t(map)</th>\n",
       "      <th>t(astar)</th>\n",
       "      <th>unique_best</th>\n",
       "      <th>pushed+popped</th>\n",
       "      <th>explored_states</th>\n",
       "    </tr>\n",
       "    <tr>\n",
       "      <th>readname</th>\n",
       "      <th></th>\n",
       "      <th></th>\n",
       "      <th></th>\n",
       "      <th></th>\n",
       "      <th></th>\n",
       "      <th></th>\n",
       "      <th></th>\n",
       "      <th></th>\n",
       "      <th></th>\n",
       "      <th></th>\n",
       "      <th></th>\n",
       "      <th></th>\n",
       "      <th></th>\n",
       "      <th></th>\n",
       "      <th></th>\n",
       "      <th></th>\n",
       "      <th></th>\n",
       "      <th></th>\n",
       "    </tr>\n",
       "  </thead>\n",
       "  <tbody>\n",
       "    <tr>\n",
       "      <th>simulated.81</th>\n",
       "      <td>graphs/pasgal-MHC1.gfa</td>\n",
       "      <td>11611462</td>\n",
       "      <td>astar-prefix</td>\n",
       "      <td>align</td>\n",
       "      <td>0.0</td>\n",
       "      <td>100</td>\n",
       "      <td>ATCACATCCAAATCTCACAGGCCTCAAAAGCTACAGCTGACATTCC...</td>\n",
       "      <td>ATCACATCCAAATCTCACAGGCCTCAAAAGCTACAGCTGACATTCC...</td>\n",
       "      <td>0</td>\n",
       "      <td>-1</td>\n",
       "      <td>1.42</td>\n",
       "      <td>0.15</td>\n",
       "      <td>0.0</td>\n",
       "      <td>0.020333</td>\n",
       "      <td>0.000959</td>\n",
       "      <td>1</td>\n",
       "      <td>1.57</td>\n",
       "      <td>142.0</td>\n",
       "    </tr>\n",
       "    <tr>\n",
       "      <th>simulated.82</th>\n",
       "      <td>graphs/pasgal-MHC1.gfa</td>\n",
       "      <td>11611462</td>\n",
       "      <td>astar-prefix</td>\n",
       "      <td>align</td>\n",
       "      <td>0.0</td>\n",
       "      <td>100</td>\n",
       "      <td>AGAAAAGTACCTCAAAAGGACAAATCTAAGAATGATTGGTGCTCAA...</td>\n",
       "      <td>AGAAAAGTACCTCAAAAGGACAAATCTAAGAATGATTGGTGCTCAA...</td>\n",
       "      <td>0</td>\n",
       "      <td>-1</td>\n",
       "      <td>1.51</td>\n",
       "      <td>0.16</td>\n",
       "      <td>0.0</td>\n",
       "      <td>0.020695</td>\n",
       "      <td>0.017829</td>\n",
       "      <td>1</td>\n",
       "      <td>1.67</td>\n",
       "      <td>151.0</td>\n",
       "    </tr>\n",
       "    <tr>\n",
       "      <th>simulated.83</th>\n",
       "      <td>graphs/pasgal-MHC1.gfa</td>\n",
       "      <td>11611462</td>\n",
       "      <td>astar-prefix</td>\n",
       "      <td>align</td>\n",
       "      <td>0.0</td>\n",
       "      <td>100</td>\n",
       "      <td>ATGAGAACACATGGACACAGGAAGGGGAACATCACACTCTGGGGAC...</td>\n",
       "      <td>ATGAGAACACATGGACACAGGAAGGGGAACATCACACTCTGGGGAC...</td>\n",
       "      <td>0</td>\n",
       "      <td>-1</td>\n",
       "      <td>4.41</td>\n",
       "      <td>0.54</td>\n",
       "      <td>0.0</td>\n",
       "      <td>0.079559</td>\n",
       "      <td>0.002115</td>\n",
       "      <td>1</td>\n",
       "      <td>4.95</td>\n",
       "      <td>441.0</td>\n",
       "    </tr>\n",
       "    <tr>\n",
       "      <th>simulated.84</th>\n",
       "      <td>graphs/pasgal-MHC1.gfa</td>\n",
       "      <td>11611462</td>\n",
       "      <td>astar-prefix</td>\n",
       "      <td>align</td>\n",
       "      <td>0.0</td>\n",
       "      <td>100</td>\n",
       "      <td>TAAAGAAATGTGACTCAGTGGTCCACATGGTTGCAGTACCTCCCAT...</td>\n",
       "      <td>TAAAGAAATGTGACTCAGTGGTCCACATGGTTGCAGTACCTCCCAT...</td>\n",
       "      <td>0</td>\n",
       "      <td>-1</td>\n",
       "      <td>2.74</td>\n",
       "      <td>0.23</td>\n",
       "      <td>0.0</td>\n",
       "      <td>0.040670</td>\n",
       "      <td>0.001997</td>\n",
       "      <td>1</td>\n",
       "      <td>2.97</td>\n",
       "      <td>274.0</td>\n",
       "    </tr>\n",
       "    <tr>\n",
       "      <th>simulated.85</th>\n",
       "      <td>graphs/pasgal-MHC1.gfa</td>\n",
       "      <td>11611462</td>\n",
       "      <td>astar-prefix</td>\n",
       "      <td>align</td>\n",
       "      <td>0.0</td>\n",
       "      <td>100</td>\n",
       "      <td>CATTACTCAGGACAACAGAAGAGAAAGAGCAGGTCTAGAGTGTATA...</td>\n",
       "      <td>CATTACTCAGGACAACAGAAGAGAAAGAGCAGGTCTAGAGTGTATA...</td>\n",
       "      <td>0</td>\n",
       "      <td>-1</td>\n",
       "      <td>1.30</td>\n",
       "      <td>0.15</td>\n",
       "      <td>0.0</td>\n",
       "      <td>0.020289</td>\n",
       "      <td>0.000950</td>\n",
       "      <td>1</td>\n",
       "      <td>1.45</td>\n",
       "      <td>130.0</td>\n",
       "    </tr>\n",
       "  </tbody>\n",
       "</table>\n",
       "</div>"
      ],
      "text/plain": [
       "                                 ref   refsize          algo operation  memory  len                                               read                                              spell  cost  starts  pushed  popped  repeat_rate    t(map)  t(astar)  unique_best  pushed+popped  explored_states\n",
       "readname                                                                                                                                                                                                                                                                                             \n",
       "simulated.81  graphs/pasgal-MHC1.gfa  11611462  astar-prefix     align     0.0  100  ATCACATCCAAATCTCACAGGCCTCAAAAGCTACAGCTGACATTCC...  ATCACATCCAAATCTCACAGGCCTCAAAAGCTACAGCTGACATTCC...     0      -1    1.42    0.15          0.0  0.020333  0.000959            1           1.57            142.0\n",
       "simulated.82  graphs/pasgal-MHC1.gfa  11611462  astar-prefix     align     0.0  100  AGAAAAGTACCTCAAAAGGACAAATCTAAGAATGATTGGTGCTCAA...  AGAAAAGTACCTCAAAAGGACAAATCTAAGAATGATTGGTGCTCAA...     0      -1    1.51    0.16          0.0  0.020695  0.017829            1           1.67            151.0\n",
       "simulated.83  graphs/pasgal-MHC1.gfa  11611462  astar-prefix     align     0.0  100  ATGAGAACACATGGACACAGGAAGGGGAACATCACACTCTGGGGAC...  ATGAGAACACATGGACACAGGAAGGGGAACATCACACTCTGGGGAC...     0      -1    4.41    0.54          0.0  0.079559  0.002115            1           4.95            441.0\n",
       "simulated.84  graphs/pasgal-MHC1.gfa  11611462  astar-prefix     align     0.0  100  TAAAGAAATGTGACTCAGTGGTCCACATGGTTGCAGTACCTCCCAT...  TAAAGAAATGTGACTCAGTGGTCCACATGGTTGCAGTACCTCCCAT...     0      -1    2.74    0.23          0.0  0.040670  0.001997            1           2.97            274.0\n",
       "simulated.85  graphs/pasgal-MHC1.gfa  11611462  astar-prefix     align     0.0  100  CATTACTCAGGACAACAGAAGAGAAAGAGCAGGTCTAGAGTGTATA...  CATTACTCAGGACAACAGAAGAGAAAGAGCAGGTCTAGAGTGTATA...     0      -1    1.30    0.15          0.0  0.020289  0.000950            1           1.45            130.0"
      ]
     },
     "metadata": {},
     "output_type": "display_data"
    }
   ],
   "source": [
    "df_seeds = read_astarix_performance('results/ecoli_illumina250_astar-seeds.tsv')\n",
    "df_base = read_astarix_performance('results/ecoli_illumina250_astar-prefix.tsv')\n",
    "\n",
    "df_seeds = read_astarix_performance('results/MHC1-astarix-prefix/alignments.tsv')\n",
    "df_base = read_astarix_performance('results/MHC1-astarix-seeds/alignments.tsv')\n",
    "\n",
    "display(df_seeds.head())"
   ]
  },
  {
   "cell_type": "code",
   "execution_count": 3,
   "id": "agricultural-praise",
   "metadata": {},
   "outputs": [],
   "source": [
    "def cross_validation(seeds, base):\n",
    "    correct = True\n",
    "    for index, row in df_seeds.iterrows():\n",
    "        #display(row)\n",
    "        a = df_base[df_base['read'] == row['read']]\n",
    "        assert(len(a) == 1)\n",
    "        r = a.iloc[0]\n",
    "        if row.cost != r.cost:\n",
    "            print(\"Mismatching costs: \", row.cost, \" != \", r.cost)\n",
    "            print(row)\n",
    "            print(r)\n",
    "            correct = False\n",
    "    print('Checked ' + str(len(df_seeds)) + ' alignments.')\n",
    "    return correct"
   ]
  },
  {
   "cell_type": "code",
   "execution_count": 4,
   "id": "worst-warning",
   "metadata": {},
   "outputs": [
    {
     "name": "stdout",
     "output_type": "stream",
     "text": [
      "Checked 100 alignments.\n"
     ]
    },
    {
     "data": {
      "text/plain": [
       "True"
      ]
     },
     "execution_count": 4,
     "metadata": {},
     "output_type": "execute_result"
    }
   ],
   "source": [
    "cross_validation(df_seeds, df_base)"
   ]
  },
  {
   "cell_type": "code",
   "execution_count": 255,
   "id": "smooth-holly",
   "metadata": {},
   "outputs": [],
   "source": [
    "def read_maf(fn):\n",
    "    L = []\n",
    "    loc = -1\n",
    "    readname = 'empty'\n",
    "    for line in open(fn, 'r').readlines():\n",
    "        arr = line.split()\n",
    "        if len(arr) == 0:\n",
    "            continue\n",
    "        if arr[0] == 'a':\n",
    "            loc = -1\n",
    "            readname = 'empty'\n",
    "            continue\n",
    "        if arr[1] == 'ref':\n",
    "            loc  = int(arr[2])\n",
    "        else:\n",
    "            readname = arr[1]\n",
    "            L.append([readname, loc])\n",
    "    df = pd.DataFrame(L, columns=['readname', 'gt_loc'])\n",
    "    df.set_index('readname', inplace=True)\n",
    "    return df"
   ]
  },
  {
   "cell_type": "code",
   "execution_count": 260,
   "id": "optical-faculty",
   "metadata": {},
   "outputs": [],
   "source": [
    "def compare_eq(df, col1='minimap_loc', col2='gt_loc'):\n",
    "    eq, diff = 0, 0\n",
    "    for index, row in df.iterrows():\n",
    "        if abs(row[col1]-row[col2]) < 1000:\n",
    "            eq += 1\n",
    "        else:\n",
    "            #print(\"Mistake: \", index, row[col1], row[col2])\n",
    "            diff += 1\n",
    "    print('Checked ' + str(len(df)) + ' alignments:')\n",
    "    print(col1 + ' overlaps with ' + col2 + ' in:', eq)\n",
    "    print('differs in: {} ({:.3}%)'.format(diff, 100.0*diff/(eq+diff)))"
   ]
  },
  {
   "cell_type": "code",
   "execution_count": 261,
   "id": "sustainable-exposure",
   "metadata": {},
   "outputs": [],
   "source": [
    "def str2errors(s):\n",
    "    n, errors = 0, 0\n",
    "    for c in s:\n",
    "        if c >= '0' and c <= '9':\n",
    "            n = n*10 + int(c)\n",
    "        else:\n",
    "            if c == 'S' or c == 'D' or c == 'I':\n",
    "                errors += n\n",
    "            else:\n",
    "                assert(c == 'M')\n",
    "            n = 0\n",
    "    return errors"
   ]
  },
  {
   "cell_type": "code",
   "execution_count": 328,
   "id": "reasonable-organization",
   "metadata": {
    "tags": []
   },
   "outputs": [],
   "source": [
    "def check_minimap(minimap_sam_fn, gt_maf_fn):\n",
    "    print(minimap_sam_fn)\n",
    "    print(gt_maf_fn)\n",
    "    \n",
    "    df_minimap = pd.read_csv(minimap_sam_fn, skiprows=2, header=None, delim_whitespace=True, index_col=0, usecols=[0,1,2,3,4,5,6,7,8,9,10])\n",
    "    #df_minimap = df_minimap.set_index(0, verify_integrity=True)\n",
    "#    df_minimap['minimap_nm_cost'] = [ int(x.split(':')[2]) for x in df_minimap[10] ]\n",
    "#    df_minimap['minimap_str_cost'] = [ str2errors(s) for s in df_minimap[4] ]\n",
    "    df_minimap['minimap_loc'] = [ int(x) if x != '*' else -100000 for x in df_minimap[2] ]\n",
    "    df_minimap['query_len'] = [ len(s) for s in df_minimap[8] ]\n",
    "    \n",
    "    #df_seeds = read_astarix_performance('results/ecoli_head1000000_linear_long_300_ccs/astar-default/alignments.tsv')\n",
    " #   print(df_minimap.head())\n",
    "    \n",
    "    df_gt = read_maf(gt_maf_fn)\n",
    "    \n",
    "#    df = df_seeds.join(df_minimap, sort=True)\n",
    "    df = df_minimap.join(df_gt, sort=True)\n",
    "    df['is_correct'] = [ abs(r['minimap_loc'] - r['gt_loc']) < 1000 for idx, r in df.iterrows() ]\n",
    "    compare_eq(df, 'minimap_loc', 'gt_loc')\n",
    "    ax = df['query_len'].plot.hist(bins=30, alpha=0.5)\n",
    "    \n",
    "    ###\n",
    "    h = {}\n",
    "    d = 50\n",
    "    for i in range(0,1000,d):\n",
    "        h[i] = (1.0 * sum([ r['is_correct'] for idx, r in df.iterrows() if r['query_len'] >= i and r['query_len'] < i+d ]) / (1+sum([ 1 for idx, r in df.iterrows() if r['query_len'] >= i and r['query_len'] < i+d ])))\n",
    "    c = pd.DataFrame(list(h.items()), columns = ['len', '% correct alignments'])\n",
    "    print(c)\n",
    "    c.plot('len', '% correct alignments')\n",
    "    #plt.savefig('plots'/(prefix+'_'+x+'-'+y+'.png'), bbox_inches='tight')\n",
    "    #draw_plot(df, 'query_len', 'is_correct')"
   ]
  },
  {
   "cell_type": "code",
   "execution_count": 329,
   "id": "standard-liver",
   "metadata": {},
   "outputs": [
    {
     "name": "stdout",
     "output_type": "stream",
     "text": [
      "results/ecoli_head1000000_linear_long_clr/minimap.sam\n",
      "results/ecoli_head1000000_linear_long_clr/gt/sd_0001.maf\n",
      "Checked 6575 alignments:\n",
      "minimap_loc overlaps with gt_loc in: 6462\n",
      "differs in: 113 (1.72%)\n",
      "    len  % correct alignments\n",
      "0     0              0.000000\n",
      "1    50              0.000000\n",
      "2   100              0.000000\n",
      "3   150              0.000000\n",
      "4   200              0.500000\n",
      "5   250              0.000000\n",
      "6   300              0.800000\n",
      "7   350              0.875000\n",
      "8   400              0.909091\n",
      "9   450              0.904762\n",
      "10  500              0.954545\n",
      "11  550              0.961538\n",
      "12  600              0.969697\n",
      "13  650              0.980392\n",
      "14  700              0.979592\n",
      "15  750              0.982759\n",
      "16  800              0.982143\n",
      "17  850              0.985075\n",
      "18  900              0.987342\n",
      "19  950              0.987179\n"
     ]
    },
    {
     "data": {
      "image/png": "[encoded data removed]",
      "text/plain": [
       "<Figure size 432x288 with 1 Axes>"
      ]
     },
     "metadata": {
      "needs_background": "light"
     },
     "output_type": "display_data"
    },
    {
     "data": {
      "image/png": "[encoded data removed]",
      "text/plain": [
       "<Figure size 432x288 with 1 Axes>"
      ]
     },
     "metadata": {
      "needs_background": "light"
     },
     "output_type": "display_data"
    }
   ],
   "source": [
    "check_minimap('results/ecoli_head1000000_linear_long_clr/minimap.sam', 'results/ecoli_head1000000_linear_long_clr/gt/sd_0001.maf')"
   ]
  },
  {
   "cell_type": "code",
   "execution_count": 325,
   "id": "beginning-present",
   "metadata": {},
   "outputs": [
    {
     "name": "stdout",
     "output_type": "stream",
     "text": [
      "results/ecoli_head1000000_linear_long_ccs/minimap.sam\n",
      "results/ecoli_head1000000_linear_long_ccs/gt/sd_0001.maf\n",
      "Checked 109171 alignments:\n",
      "minimap_loc overlaps with gt_loc in: 108710\n",
      "differs in: 461 (0.422%)\n",
      "108710\n",
      "   len  % correct alignments\n",
      "0    0              0.000000\n",
      "1  100              0.993956\n",
      "2  200              0.994438\n",
      "3  300              0.994891\n",
      "4  400              0.995659\n",
      "5  500              0.997077\n",
      "6  600              0.997068\n",
      "7  700              0.997196\n",
      "8  800              0.998261\n",
      "9  900              0.999093\n"
     ]
    },
    {
     "data": {
      "image/png": "[encoded data removed]",
      "text/plain": [
       "<Figure size 432x288 with 1 Axes>"
      ]
     },
     "metadata": {
      "needs_background": "light"
     },
     "output_type": "display_data"
    },
    {
     "data": {
      "image/png": "[encoded data removed]",
      "text/plain": [
       "<Figure size 432x288 with 1 Axes>"
      ]
     },
     "metadata": {
      "needs_background": "light"
     },
     "output_type": "display_data"
    }
   ],
   "source": [
    "check_minimap('results/ecoli_head1000000_linear_long_ccs/minimap.sam', 'results/ecoli_head1000000_linear_long_ccs/gt/sd_0001.maf')"
   ]
  },
  {
   "cell_type": "code",
   "execution_count": 215,
   "id": "sunset-shirt",
   "metadata": {},
   "outputs": [
    {
     "name": "stdout",
     "output_type": "stream",
     "text": [
      "results/ecoli_head1000000_linear_long_500_clr/minimap2/aln.sam\n",
      "results/ecoli_head1000000_linear_long_500_clr/gt/sd_0001.maf\n",
      "           1       2   3                                                  4  5  6  7                                                  8                                                  9       10  minimap_loc  query_len  gt_loc\n",
      "0                                                                                                                                                                                                                                  \n",
      "S1_1       0  497903  12  18S7M1I9M1I4M1I23M1I3M1I9M2I12M1D10M1D12M1I16M...  *  0  0  AAAGCAACGACTTTAAAGTCAGAAATTCTCAGGCCGGGATCATTCA...  -\"*#$(&'../.&*))%*'\"&'+&(&(*)\".,#-#+*'&-&+#*#*...  NM:i:86       497903        500  497891\n",
      "S1_10     16  842002  50  8S9M1D3M2I8M1I7M1D2M1D5M2I21M1I11M1I37M2I5M1I2...  *  0  0  TGCCGTCTTGAGAGAGATCCGGGCTCAGGACCGGTGGCATAGTAGG...  ('!-+,$'#'(.,*-,.'')$.%((\"(**,',(.&(++.-&..#*)...  NM:i:85       842002        500  841997\n",
      "S1_100    16   19636  20  24M1I1M1I3M1I14M1I5M1I4M3I6M1D11M1I4M2I2M1I2M3...  *  0  0  AAGTTAAGTAGGGGGAGATAGTTTGATGTTGGTACATTACCACGAT...  ))$.%%&,().'$&)\"-*+%&,(.\"-$.+-#*..,))(),',.$)....  NM:i:95        19636        500   19635\n",
      "S1_1000   16  960643  60  26S5M1I3M1I4M1D4M1I5M1D5M2I10M1D4M1D4M2I6M2I6M...  *  0  0  ACCAATGAGTTTGAAATAACTACGAAAAATTGGAAGGGCGTGTGTG...  +,$\"),&,*$&!&*''.$+,'..$#!\"&#&.*%#--%,)*.''*+-...  NM:i:88       960643        500  960624\n",
      "S1_10000  16   74844  10  3S6M1D7M2D8M1I5M1D5M1D4M2I3M1D2M1I4M1D8M1D14M1...  *  0  0  CCCGTACCAATCGCTTACCCTTTATAAAACGGCCGAGGCCTTTCCT...  -'-,,-+--'.,(+-#+,&-(/(-$*.-$')%'+$.-')#.)-.\"-...  NM:i:87        74844        500   74839\n",
      "Checked 39344 alignments:\n",
      "minimap_loc overlaps with gt_loc in: 27676\n",
      "differs in: 11668 (29.7%)\n"
     ]
    }
   ],
   "source": [
    "check_minimap('results/ecoli_head1000000_linear_long_500_clr/minimap2/aln.sam', 'results/ecoli_head1000000_linear_long_500_clr/gt/sd_0001.maf')"
   ]
  },
  {
   "cell_type": "code",
   "execution_count": 206,
   "id": "passing-architecture",
   "metadata": {},
   "outputs": [
    {
     "name": "stdout",
     "output_type": "stream",
     "text": [
      "results/ecoli_head1000000_linear_long_300_ccs/minimap2/aln.sam\n",
      "results/ecoli_head1000000_linear_long_300_ccs/long_300_ccs/sd_0001.maf\n",
      "Checked 78571 alignments:\n",
      "minimap_loc overlaps with gt_loc in: 78085\n",
      "differs in: 486 (0.619%)\n"
     ]
    }
   ],
   "source": [
    "check_minimap('results/ecoli_head1000000_linear_long_300_ccs/minimap2/aln.sam', 'results/ecoli_head1000000_linear_long_300_ccs/long_300_ccs/sd_0001.maf')"
   ]
  },
  {
   "cell_type": "code",
   "execution_count": 195,
   "id": "delayed-music",
   "metadata": {},
   "outputs": [],
   "source": [
    "## NOT USED\n",
    "def compare_costs(df, col1='cost_seeds', col2='cost_minimap'):\n",
    "    eq, seeds_better, minimap_better = 0, 0, 0\n",
    "    \n",
    "    for index, row in df.iterrows():\n",
    "        #display(row)\n",
    "        #print(index, row[col1], row[col2])\n",
    "        if row[col1] == row[col2]:\n",
    "            eq += 1\n",
    "        elif row[col1] < row[col2]:\n",
    "            seeds_better += 1\n",
    "        elif row[col1] > row[col2]:\n",
    "            #assert(False)\n",
    "            #print('!!!')\n",
    "            minimap_better += 1\n",
    "        else:\n",
    "            print(\"Mistake\")\n",
    "            assert(False)\n",
    "    print('Checked ' + str(len(df)) + ' alignments:')\n",
    "    print(col1 + ' better in:', seeds_better)\n",
    "    print(col2 + ' minimap better in:', minimap_better)\n",
    "    print('            Equal in:', eq)"
   ]
  },
  {
   "cell_type": "code",
   "execution_count": 192,
   "id": "everyday-tiger",
   "metadata": {},
   "outputs": [
    {
     "name": "stdout",
     "output_type": "stream",
     "text": [
      "Checked 100 alignments:\n",
      "minimap_loc overlaps with gt_loc in: 99\n"
     ]
    },
    {
     "ename": "ValueError",
     "evalue": "cannot switch from automatic field numbering to manual field specification",
     "output_type": "error",
     "traceback": [
      "\u001b[0;31m---------------------------------------------------------------------------\u001b[0m",
      "\u001b[0;31mValueError\u001b[0m                                Traceback (most recent call last)",
      "\u001b[0;32m<ipython-input-192-efb0b0fd411e>\u001b[0m in \u001b[0;36m<module>\u001b[0;34m\u001b[0m\n\u001b[0;32m----> 1\u001b[0;31m \u001b[0mcompare_eq\u001b[0m\u001b[0;34m(\u001b[0m\u001b[0mdf\u001b[0m\u001b[0;34m,\u001b[0m \u001b[0;34m'minimap_loc'\u001b[0m\u001b[0;34m,\u001b[0m \u001b[0;34m'gt_loc'\u001b[0m\u001b[0;34m)\u001b[0m\u001b[0;34m\u001b[0m\u001b[0;34m\u001b[0m\u001b[0m\n\u001b[0m\u001b[1;32m      2\u001b[0m \u001b[0;31m#compare_costs(df, 'cost', 'minimap_str_cost')\u001b[0m\u001b[0;34m\u001b[0m\u001b[0;34m\u001b[0m\u001b[0;34m\u001b[0m\u001b[0m\n",
      "\u001b[0;32m<ipython-input-190-84d5738c9301>\u001b[0m in \u001b[0;36mcompare_eq\u001b[0;34m(df, col1, col2)\u001b[0m\n\u001b[1;32m      9\u001b[0m     \u001b[0mprint\u001b[0m\u001b[0;34m(\u001b[0m\u001b[0;34m'Checked '\u001b[0m \u001b[0;34m+\u001b[0m \u001b[0mstr\u001b[0m\u001b[0;34m(\u001b[0m\u001b[0mlen\u001b[0m\u001b[0;34m(\u001b[0m\u001b[0mdf\u001b[0m\u001b[0;34m)\u001b[0m\u001b[0;34m)\u001b[0m \u001b[0;34m+\u001b[0m \u001b[0;34m' alignments:'\u001b[0m\u001b[0;34m)\u001b[0m\u001b[0;34m\u001b[0m\u001b[0;34m\u001b[0m\u001b[0m\n\u001b[1;32m     10\u001b[0m     \u001b[0mprint\u001b[0m\u001b[0;34m(\u001b[0m\u001b[0mcol1\u001b[0m \u001b[0;34m+\u001b[0m \u001b[0;34m' overlaps with '\u001b[0m \u001b[0;34m+\u001b[0m \u001b[0mcol2\u001b[0m \u001b[0;34m+\u001b[0m \u001b[0;34m' in:'\u001b[0m\u001b[0;34m,\u001b[0m \u001b[0meq\u001b[0m\u001b[0;34m)\u001b[0m\u001b[0;34m\u001b[0m\u001b[0;34m\u001b[0m\u001b[0m\n\u001b[0;32m---> 11\u001b[0;31m     \u001b[0mprint\u001b[0m\u001b[0;34m(\u001b[0m\u001b[0;34m'differs in: {} ({0:.3g}%)'\u001b[0m\u001b[0;34m.\u001b[0m\u001b[0mformat\u001b[0m\u001b[0;34m(\u001b[0m\u001b[0mdiff\u001b[0m\u001b[0;34m,\u001b[0m \u001b[0;36m100.0\u001b[0m\u001b[0;34m*\u001b[0m\u001b[0mdiff\u001b[0m\u001b[0;34m/\u001b[0m\u001b[0;34m(\u001b[0m\u001b[0meq\u001b[0m\u001b[0;34m+\u001b[0m\u001b[0mdiff\u001b[0m\u001b[0;34m)\u001b[0m\u001b[0;34m)\u001b[0m\u001b[0;34m)\u001b[0m\u001b[0;34m\u001b[0m\u001b[0;34m\u001b[0m\u001b[0m\n\u001b[0m",
      "\u001b[0;31mValueError\u001b[0m: cannot switch from automatic field numbering to manual field specification"
     ]
    }
   ],
   "source": [
    "compare_eq(df, 'minimap_loc', 'gt_loc')\n",
    "#compare_costs(df, 'cost', 'minimap_str_cost')"
   ]
  },
  {
   "cell_type": "code",
   "execution_count": 287,
   "id": "choice-offer",
   "metadata": {},
   "outputs": [],
   "source": [
    "def draw_plot(df, colx, coly):\n",
    "    ax = df.plot(colx, coly)\n"
   ]
  },
  {
   "cell_type": "code",
   "execution_count": 288,
   "id": "together-exchange",
   "metadata": {},
   "outputs": [
    {
     "ename": "KeyError",
     "evalue": "'query_len'",
     "output_type": "error",
     "traceback": [
      "\u001b[0;31m---------------------------------------------------------------------------\u001b[0m",
      "\u001b[0;31mKeyError\u001b[0m                                  Traceback (most recent call last)",
      "\u001b[0;32m~/.local/lib/python3.9/site-packages/pandas/core/indexes/base.py\u001b[0m in \u001b[0;36mget_loc\u001b[0;34m(self, key, method, tolerance)\u001b[0m\n\u001b[1;32m   3079\u001b[0m             \u001b[0;32mtry\u001b[0m\u001b[0;34m:\u001b[0m\u001b[0;34m\u001b[0m\u001b[0;34m\u001b[0m\u001b[0m\n\u001b[0;32m-> 3080\u001b[0;31m                 \u001b[0;32mreturn\u001b[0m \u001b[0mself\u001b[0m\u001b[0;34m.\u001b[0m\u001b[0m_engine\u001b[0m\u001b[0;34m.\u001b[0m\u001b[0mget_loc\u001b[0m\u001b[0;34m(\u001b[0m\u001b[0mcasted_key\u001b[0m\u001b[0;34m)\u001b[0m\u001b[0;34m\u001b[0m\u001b[0;34m\u001b[0m\u001b[0m\n\u001b[0m\u001b[1;32m   3081\u001b[0m             \u001b[0;32mexcept\u001b[0m \u001b[0mKeyError\u001b[0m \u001b[0;32mas\u001b[0m \u001b[0merr\u001b[0m\u001b[0;34m:\u001b[0m\u001b[0;34m\u001b[0m\u001b[0;34m\u001b[0m\u001b[0m\n",
      "\u001b[0;32mpandas/_libs/index.pyx\u001b[0m in \u001b[0;36mpandas._libs.index.IndexEngine.get_loc\u001b[0;34m()\u001b[0m\n",
      "\u001b[0;32mpandas/_libs/index.pyx\u001b[0m in \u001b[0;36mpandas._libs.index.IndexEngine.get_loc\u001b[0;34m()\u001b[0m\n",
      "\u001b[0;32mpandas/_libs/hashtable_class_helper.pxi\u001b[0m in \u001b[0;36mpandas._libs.hashtable.PyObjectHashTable.get_item\u001b[0;34m()\u001b[0m\n",
      "\u001b[0;32mpandas/_libs/hashtable_class_helper.pxi\u001b[0m in \u001b[0;36mpandas._libs.hashtable.PyObjectHashTable.get_item\u001b[0;34m()\u001b[0m\n",
      "\u001b[0;31mKeyError\u001b[0m: 'query_len'",
      "\nThe above exception was the direct cause of the following exception:\n",
      "\u001b[0;31mKeyError\u001b[0m                                  Traceback (most recent call last)",
      "\u001b[0;32m<ipython-input-288-d364e9010153>\u001b[0m in \u001b[0;36m<module>\u001b[0;34m\u001b[0m\n\u001b[0;32m----> 1\u001b[0;31m \u001b[0mdraw_plot\u001b[0m\u001b[0;34m(\u001b[0m\u001b[0mdf\u001b[0m\u001b[0;34m,\u001b[0m \u001b[0;34m'query_len'\u001b[0m\u001b[0;34m,\u001b[0m \u001b[0;34m'is_correct'\u001b[0m\u001b[0;34m)\u001b[0m\u001b[0;34m\u001b[0m\u001b[0;34m\u001b[0m\u001b[0m\n\u001b[0m",
      "\u001b[0;32m<ipython-input-287-b717e0cb274b>\u001b[0m in \u001b[0;36mdraw_plot\u001b[0;34m(df, colx, coly)\u001b[0m\n\u001b[1;32m      1\u001b[0m \u001b[0;32mdef\u001b[0m \u001b[0mdraw_plot\u001b[0m\u001b[0;34m(\u001b[0m\u001b[0mdf\u001b[0m\u001b[0;34m,\u001b[0m \u001b[0mcolx\u001b[0m\u001b[0;34m,\u001b[0m \u001b[0mcoly\u001b[0m\u001b[0;34m)\u001b[0m\u001b[0;34m:\u001b[0m\u001b[0;34m\u001b[0m\u001b[0;34m\u001b[0m\u001b[0m\n\u001b[0;32m----> 2\u001b[0;31m     \u001b[0max\u001b[0m \u001b[0;34m=\u001b[0m \u001b[0mdf\u001b[0m\u001b[0;34m.\u001b[0m\u001b[0mplot\u001b[0m\u001b[0;34m(\u001b[0m\u001b[0mcolx\u001b[0m\u001b[0;34m,\u001b[0m \u001b[0mcoly\u001b[0m\u001b[0;34m)\u001b[0m\u001b[0;34m\u001b[0m\u001b[0;34m\u001b[0m\u001b[0m\n\u001b[0m",
      "\u001b[0;32m~/.local/lib/python3.9/site-packages/pandas/plotting/_core.py\u001b[0m in \u001b[0;36m__call__\u001b[0;34m(self, *args, **kwargs)\u001b[0m\n\u001b[1;32m    918\u001b[0m                 \u001b[0;32mif\u001b[0m \u001b[0mis_integer\u001b[0m\u001b[0;34m(\u001b[0m\u001b[0mx\u001b[0m\u001b[0;34m)\u001b[0m \u001b[0;32mand\u001b[0m \u001b[0;32mnot\u001b[0m \u001b[0mdata\u001b[0m\u001b[0;34m.\u001b[0m\u001b[0mcolumns\u001b[0m\u001b[0;34m.\u001b[0m\u001b[0mholds_integer\u001b[0m\u001b[0;34m(\u001b[0m\u001b[0;34m)\u001b[0m\u001b[0;34m:\u001b[0m\u001b[0;34m\u001b[0m\u001b[0;34m\u001b[0m\u001b[0m\n\u001b[1;32m    919\u001b[0m                     \u001b[0mx\u001b[0m \u001b[0;34m=\u001b[0m \u001b[0mdata_cols\u001b[0m\u001b[0;34m[\u001b[0m\u001b[0mx\u001b[0m\u001b[0;34m]\u001b[0m\u001b[0;34m\u001b[0m\u001b[0;34m\u001b[0m\u001b[0m\n\u001b[0;32m--> 920\u001b[0;31m                 \u001b[0;32melif\u001b[0m \u001b[0;32mnot\u001b[0m \u001b[0misinstance\u001b[0m\u001b[0;34m(\u001b[0m\u001b[0mdata\u001b[0m\u001b[0;34m[\u001b[0m\u001b[0mx\u001b[0m\u001b[0;34m]\u001b[0m\u001b[0;34m,\u001b[0m \u001b[0mABCSeries\u001b[0m\u001b[0;34m)\u001b[0m\u001b[0;34m:\u001b[0m\u001b[0;34m\u001b[0m\u001b[0;34m\u001b[0m\u001b[0m\n\u001b[0m\u001b[1;32m    921\u001b[0m                     \u001b[0;32mraise\u001b[0m \u001b[0mValueError\u001b[0m\u001b[0;34m(\u001b[0m\u001b[0;34m\"x must be a label or position\"\u001b[0m\u001b[0;34m)\u001b[0m\u001b[0;34m\u001b[0m\u001b[0;34m\u001b[0m\u001b[0m\n\u001b[1;32m    922\u001b[0m                 \u001b[0mdata\u001b[0m \u001b[0;34m=\u001b[0m \u001b[0mdata\u001b[0m\u001b[0;34m.\u001b[0m\u001b[0mset_index\u001b[0m\u001b[0;34m(\u001b[0m\u001b[0mx\u001b[0m\u001b[0;34m)\u001b[0m\u001b[0;34m\u001b[0m\u001b[0;34m\u001b[0m\u001b[0m\n",
      "\u001b[0;32m~/.local/lib/python3.9/site-packages/pandas/core/frame.py\u001b[0m in \u001b[0;36m__getitem__\u001b[0;34m(self, key)\u001b[0m\n\u001b[1;32m   3022\u001b[0m             \u001b[0;32mif\u001b[0m \u001b[0mself\u001b[0m\u001b[0;34m.\u001b[0m\u001b[0mcolumns\u001b[0m\u001b[0;34m.\u001b[0m\u001b[0mnlevels\u001b[0m \u001b[0;34m>\u001b[0m \u001b[0;36m1\u001b[0m\u001b[0;34m:\u001b[0m\u001b[0;34m\u001b[0m\u001b[0;34m\u001b[0m\u001b[0m\n\u001b[1;32m   3023\u001b[0m                 \u001b[0;32mreturn\u001b[0m \u001b[0mself\u001b[0m\u001b[0;34m.\u001b[0m\u001b[0m_getitem_multilevel\u001b[0m\u001b[0;34m(\u001b[0m\u001b[0mkey\u001b[0m\u001b[0;34m)\u001b[0m\u001b[0;34m\u001b[0m\u001b[0;34m\u001b[0m\u001b[0m\n\u001b[0;32m-> 3024\u001b[0;31m             \u001b[0mindexer\u001b[0m \u001b[0;34m=\u001b[0m \u001b[0mself\u001b[0m\u001b[0;34m.\u001b[0m\u001b[0mcolumns\u001b[0m\u001b[0;34m.\u001b[0m\u001b[0mget_loc\u001b[0m\u001b[0;34m(\u001b[0m\u001b[0mkey\u001b[0m\u001b[0;34m)\u001b[0m\u001b[0;34m\u001b[0m\u001b[0;34m\u001b[0m\u001b[0m\n\u001b[0m\u001b[1;32m   3025\u001b[0m             \u001b[0;32mif\u001b[0m \u001b[0mis_integer\u001b[0m\u001b[0;34m(\u001b[0m\u001b[0mindexer\u001b[0m\u001b[0;34m)\u001b[0m\u001b[0;34m:\u001b[0m\u001b[0;34m\u001b[0m\u001b[0;34m\u001b[0m\u001b[0m\n\u001b[1;32m   3026\u001b[0m                 \u001b[0mindexer\u001b[0m \u001b[0;34m=\u001b[0m \u001b[0;34m[\u001b[0m\u001b[0mindexer\u001b[0m\u001b[0;34m]\u001b[0m\u001b[0;34m\u001b[0m\u001b[0;34m\u001b[0m\u001b[0m\n",
      "\u001b[0;32m~/.local/lib/python3.9/site-packages/pandas/core/indexes/base.py\u001b[0m in \u001b[0;36mget_loc\u001b[0;34m(self, key, method, tolerance)\u001b[0m\n\u001b[1;32m   3080\u001b[0m                 \u001b[0;32mreturn\u001b[0m \u001b[0mself\u001b[0m\u001b[0;34m.\u001b[0m\u001b[0m_engine\u001b[0m\u001b[0;34m.\u001b[0m\u001b[0mget_loc\u001b[0m\u001b[0;34m(\u001b[0m\u001b[0mcasted_key\u001b[0m\u001b[0;34m)\u001b[0m\u001b[0;34m\u001b[0m\u001b[0;34m\u001b[0m\u001b[0m\n\u001b[1;32m   3081\u001b[0m             \u001b[0;32mexcept\u001b[0m \u001b[0mKeyError\u001b[0m \u001b[0;32mas\u001b[0m \u001b[0merr\u001b[0m\u001b[0;34m:\u001b[0m\u001b[0;34m\u001b[0m\u001b[0;34m\u001b[0m\u001b[0m\n\u001b[0;32m-> 3082\u001b[0;31m                 \u001b[0;32mraise\u001b[0m \u001b[0mKeyError\u001b[0m\u001b[0;34m(\u001b[0m\u001b[0mkey\u001b[0m\u001b[0;34m)\u001b[0m \u001b[0;32mfrom\u001b[0m \u001b[0merr\u001b[0m\u001b[0;34m\u001b[0m\u001b[0;34m\u001b[0m\u001b[0m\n\u001b[0m\u001b[1;32m   3083\u001b[0m \u001b[0;34m\u001b[0m\u001b[0m\n\u001b[1;32m   3084\u001b[0m         \u001b[0;32mif\u001b[0m \u001b[0mtolerance\u001b[0m \u001b[0;32mis\u001b[0m \u001b[0;32mnot\u001b[0m \u001b[0;32mNone\u001b[0m\u001b[0;34m:\u001b[0m\u001b[0;34m\u001b[0m\u001b[0;34m\u001b[0m\u001b[0m\n",
      "\u001b[0;31mKeyError\u001b[0m: 'query_len'"
     ]
    }
   ],
   "source": [
    "draw_plot(df, 'query_len', 'is_correct')"
   ]
  },
  {
   "cell_type": "code",
   "execution_count": null,
   "id": "toxic-specification",
   "metadata": {},
   "outputs": [],
   "source": []
  }
 ],
 "metadata": {
  "kernelspec": {
   "display_name": "Python 3",
   "language": "python",
   "name": "python3"
  },
  "language_info": {
   "codemirror_mode": {
    "name": "ipython",
    "version": 3
   },
   "file_extension": ".py",
   "mimetype": "text/x-python",
   "name": "python",
   "nbconvert_exporter": "python",
   "pygments_lexer": "ipython3",
   "version": "3.9.1"
  }
 },
 "nbformat": 4,
 "nbformat_minor": 5
}
