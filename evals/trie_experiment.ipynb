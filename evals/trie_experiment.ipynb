{
 "cells": [
  {
   "cell_type": "code",
   "execution_count": 1,
   "metadata": {},
   "outputs": [],
   "source": [
    "from header import *\n",
    "import math\n",
    "plt.rcParams.update({'font.size': 16})"
   ]
  },
  {
   "cell_type": "code",
   "execution_count": 2,
   "metadata": {},
   "outputs": [
    {
     "ename": "ValueError",
     "evalue": "No objects to concatenate",
     "output_type": "error",
     "traceback": [
      "\u001b[0;31m---------------------------------------------------------------------------\u001b[0m",
      "\u001b[0;31mValueError\u001b[0m                                Traceback (most recent call last)",
      "\u001b[0;32m<ipython-input-2-8007c526b9ed>\u001b[0m in \u001b[0;36m<module>\u001b[0;34m\u001b[0m\n\u001b[1;32m      9\u001b[0m \u001b[0;34m\u001b[0m\u001b[0m\n\u001b[1;32m     10\u001b[0m \u001b[0mdfs\u001b[0m \u001b[0;34m=\u001b[0m \u001b[0;34m{\u001b[0m\u001b[0;34m}\u001b[0m\u001b[0;34m\u001b[0m\u001b[0;34m\u001b[0m\u001b[0m\n\u001b[0;32m---> 11\u001b[0;31m \u001b[0mdfs\u001b[0m\u001b[0;34m[\u001b[0m\u001b[0;34m'ecoli'\u001b[0m\u001b[0;34m]\u001b[0m \u001b[0;34m=\u001b[0m \u001b[0mgetExperiment\u001b[0m\u001b[0;34m(\u001b[0m\u001b[0;34m'ecoli_head1000000_linear'\u001b[0m\u001b[0;34m)\u001b[0m\u001b[0;34m\u001b[0m\u001b[0;34m\u001b[0m\u001b[0m\n\u001b[0m\u001b[1;32m     12\u001b[0m \u001b[0mdfs\u001b[0m\u001b[0;34m[\u001b[0m\u001b[0;34m'MHC1'\u001b[0m\u001b[0;34m]\u001b[0m \u001b[0;34m=\u001b[0m \u001b[0mgetExperiment\u001b[0m\u001b[0;34m(\u001b[0m\u001b[0;34m'MHC1_head100000_linear'\u001b[0m\u001b[0;34m)\u001b[0m\u001b[0;34m\u001b[0m\u001b[0;34m\u001b[0m\u001b[0m\n",
      "\u001b[0;32m<ipython-input-2-8007c526b9ed>\u001b[0m in \u001b[0;36mgetExperiment\u001b[0;34m(experiment)\u001b[0m\n\u001b[1;32m      3\u001b[0m     \u001b[0mstats_files\u001b[0m \u001b[0;34m=\u001b[0m \u001b[0mlist\u001b[0m\u001b[0;34m(\u001b[0m\u001b[0mtrie_experiment_ecoli_dir\u001b[0m\u001b[0;34m.\u001b[0m\u001b[0mglob\u001b[0m\u001b[0;34m(\u001b[0m\u001b[0;34m'**/stats.log'\u001b[0m\u001b[0;34m)\u001b[0m\u001b[0;34m)\u001b[0m\u001b[0;34m\u001b[0m\u001b[0;34m\u001b[0m\u001b[0m\n\u001b[1;32m      4\u001b[0m     \u001b[0mframes\u001b[0m \u001b[0;34m=\u001b[0m \u001b[0;34m[\u001b[0m\u001b[0mpd\u001b[0m\u001b[0;34m.\u001b[0m\u001b[0mread_csv\u001b[0m\u001b[0;34m(\u001b[0m\u001b[0mf\u001b[0m\u001b[0;34m,\u001b[0m \u001b[0msep\u001b[0m\u001b[0;34m=\u001b[0m\u001b[0;34m'\\t'\u001b[0m\u001b[0;34m)\u001b[0m \u001b[0;32mfor\u001b[0m \u001b[0mf\u001b[0m \u001b[0;32min\u001b[0m \u001b[0mstats_files\u001b[0m\u001b[0;34m]\u001b[0m\u001b[0;34m\u001b[0m\u001b[0;34m\u001b[0m\u001b[0m\n\u001b[0;32m----> 5\u001b[0;31m     \u001b[0mdf\u001b[0m \u001b[0;34m=\u001b[0m \u001b[0mpd\u001b[0m\u001b[0;34m.\u001b[0m\u001b[0mconcat\u001b[0m\u001b[0;34m(\u001b[0m\u001b[0mframes\u001b[0m\u001b[0;34m)\u001b[0m\u001b[0;34m\u001b[0m\u001b[0;34m\u001b[0m\u001b[0m\n\u001b[0m\u001b[1;32m      6\u001b[0m     \u001b[0mdf\u001b[0m\u001b[0;34m[\u001b[0m\u001b[0;34m'doubled_orig_graph_edges'\u001b[0m\u001b[0;34m]\u001b[0m \u001b[0;34m=\u001b[0m \u001b[0mdf\u001b[0m\u001b[0;34m[\u001b[0m\u001b[0;34m'total_edges'\u001b[0m\u001b[0;34m]\u001b[0m \u001b[0;34m-\u001b[0m \u001b[0mdf\u001b[0m\u001b[0;34m[\u001b[0m\u001b[0;34m'trie_edges'\u001b[0m\u001b[0;34m]\u001b[0m\u001b[0;34m\u001b[0m\u001b[0;34m\u001b[0m\u001b[0m\n\u001b[1;32m      7\u001b[0m     \u001b[0mdf\u001b[0m\u001b[0;34m.\u001b[0m\u001b[0msort_values\u001b[0m\u001b[0;34m(\u001b[0m\u001b[0mby\u001b[0m\u001b[0;34m=\u001b[0m\u001b[0;34m'tree_depth'\u001b[0m\u001b[0;34m,\u001b[0m \u001b[0minplace\u001b[0m\u001b[0;34m=\u001b[0m\u001b[0;32mTrue\u001b[0m\u001b[0;34m)\u001b[0m\u001b[0;34m\u001b[0m\u001b[0;34m\u001b[0m\u001b[0m\n",
      "\u001b[0;32m~/.local/lib/python3.6/site-packages/pandas/core/reshape/concat.py\u001b[0m in \u001b[0;36mconcat\u001b[0;34m(objs, axis, join, ignore_index, keys, levels, names, verify_integrity, sort, copy)\u001b[0m\n\u001b[1;32m    279\u001b[0m         \u001b[0mverify_integrity\u001b[0m\u001b[0;34m=\u001b[0m\u001b[0mverify_integrity\u001b[0m\u001b[0;34m,\u001b[0m\u001b[0;34m\u001b[0m\u001b[0;34m\u001b[0m\u001b[0m\n\u001b[1;32m    280\u001b[0m         \u001b[0mcopy\u001b[0m\u001b[0;34m=\u001b[0m\u001b[0mcopy\u001b[0m\u001b[0;34m,\u001b[0m\u001b[0;34m\u001b[0m\u001b[0;34m\u001b[0m\u001b[0m\n\u001b[0;32m--> 281\u001b[0;31m         \u001b[0msort\u001b[0m\u001b[0;34m=\u001b[0m\u001b[0msort\u001b[0m\u001b[0;34m,\u001b[0m\u001b[0;34m\u001b[0m\u001b[0;34m\u001b[0m\u001b[0m\n\u001b[0m\u001b[1;32m    282\u001b[0m     )\n\u001b[1;32m    283\u001b[0m \u001b[0;34m\u001b[0m\u001b[0m\n",
      "\u001b[0;32m~/.local/lib/python3.6/site-packages/pandas/core/reshape/concat.py\u001b[0m in \u001b[0;36m__init__\u001b[0;34m(self, objs, axis, join, keys, levels, names, ignore_index, verify_integrity, copy, sort)\u001b[0m\n\u001b[1;32m    327\u001b[0m \u001b[0;34m\u001b[0m\u001b[0m\n\u001b[1;32m    328\u001b[0m         \u001b[0;32mif\u001b[0m \u001b[0mlen\u001b[0m\u001b[0;34m(\u001b[0m\u001b[0mobjs\u001b[0m\u001b[0;34m)\u001b[0m \u001b[0;34m==\u001b[0m \u001b[0;36m0\u001b[0m\u001b[0;34m:\u001b[0m\u001b[0;34m\u001b[0m\u001b[0;34m\u001b[0m\u001b[0m\n\u001b[0;32m--> 329\u001b[0;31m             \u001b[0;32mraise\u001b[0m \u001b[0mValueError\u001b[0m\u001b[0;34m(\u001b[0m\u001b[0;34m\"No objects to concatenate\"\u001b[0m\u001b[0;34m)\u001b[0m\u001b[0;34m\u001b[0m\u001b[0;34m\u001b[0m\u001b[0m\n\u001b[0m\u001b[1;32m    330\u001b[0m \u001b[0;34m\u001b[0m\u001b[0m\n\u001b[1;32m    331\u001b[0m         \u001b[0;32mif\u001b[0m \u001b[0mkeys\u001b[0m \u001b[0;32mis\u001b[0m \u001b[0;32mNone\u001b[0m\u001b[0;34m:\u001b[0m\u001b[0;34m\u001b[0m\u001b[0;34m\u001b[0m\u001b[0m\n",
      "\u001b[0;31mValueError\u001b[0m: No objects to concatenate"
     ]
    }
   ],
   "source": [
    "def getExperiment(experiment):\n",
    "    trie_experiment_ecoli_dir = Path('experiments/trie_experiment_big/{}'.format(experiment))\n",
    "    stats_files = list(trie_experiment_ecoli_dir.glob('**/stats.log'))\n",
    "    frames = [pd.read_csv(f, sep='\\t') for f in stats_files]\n",
    "    df = pd.concat(frames)\n",
    "    df['doubled_orig_graph_edges'] = df['total_edges'] - df['trie_edges']\n",
    "    df.sort_values(by='tree_depth', inplace=True)\n",
    "    return df\n",
    "\n",
    "dfs = {}\n",
    "dfs['ecoli'] = getExperiment('ecoli_head1000000_linear')\n",
    "dfs['MHC1'] = getExperiment('MHC1_head100000_linear')"
   ]
  },
  {
   "cell_type": "raw",
   "metadata": {},
   "source": [
    "def plot_trie_tradeoff(experiment):\n",
    "    df = dfs[experiment]\n",
    "    D = math.floor(math.log(df.doubled_orig_graph_edges.mean()) / math.log(4))\n",
    "\n",
    "    pal = sns.color_palette(\"Paired\")\n",
    "    green = sns.color_palette(\"BuGn_r\")\n",
    "    runtime_color = green[1]\n",
    "    ref_color = pal[9]\n",
    "    trie_color = pal[8]\n",
    "\n",
    "    fig, axl = plt.subplots()\n",
    "    axl.set_xlabel('D (Trie depth)', size=18)\n",
    "    axr = axl.twinx()  # set up the 2nd axis    \n",
    "\n",
    "    axl.set_ylabel('Align runtime', rotation=0, va='bottom', ha='left', color=green[0], size=18)\n",
    "    axl.yaxis.set_label_coords(-0.13,1.03)\n",
    "    axl.spines[\"left\"].set_visible(False)\n",
    "    axl.yaxis.set_major_formatter(ticker.FuncFormatter(lambda x, pos: '%.0fs' % (x, )))\n",
    "\n",
    "    axr.set_ylabel('#Edges', rotation=0, va='bottom', ha='right', color=ref_color, size=18)\n",
    "    axr.yaxis.set_label_coords(1.10,1.02)\n",
    "    axr.yaxis.set_major_formatter(ticker.FuncFormatter(lambda x, pos: '%.0fM' % (x/10**6, )))\n",
    "\n",
    "    axl.set_facecolor('#F0F0F0')\n",
    "    axl.axvline(D, color='k', linestyle='dashed', linewidth=3, alpha=0.8)\n",
    "    yticks = axr.yaxis.get_major_ticks() \n",
    "    yticks[0].label1.set_visible(False)\n",
    "    axl.text(D, 1.05*max(df['align_sec']), r'$\\lfloor log_4(E) \\rfloor$', ha='center', va='bottom', size=16)\n",
    "    \n",
    "    # spines\n",
    "    for spine in [\"top\", \"left\", \"right\"]:\n",
    "        axl.spines[spine].set_visible(False)\n",
    "        axr.spines[spine].set_visible(False)\n",
    "\n",
    "    axl.tick_params(axis='x', labelsize=16)\n",
    "    axl.tick_params(axis='y', labelcolor=runtime_color, labelsize=16, color=runtime_color)\n",
    "    axr.tick_params(axis='y', labelcolor=ref_color, labelsize=16, color=ref_color)\n",
    "    \n",
    "    axr.stackplot(df['tree_depth'], [ df['doubled_orig_graph_edges'], df['trie_edges'] ],\n",
    "                  labels=['Reference', 'Trie'], colors=[ref_color, trie_color], alpha=0.4)\n",
    "    axr.legend(loc='upper right', bbox_to_anchor=(1.0, 0.8), prop={'size': 16})\n",
    "    axr.plot(df['tree_depth'], df['doubled_orig_graph_edges'], color=ref_color)\n",
    "    axr.plot(df['tree_depth'], df['doubled_orig_graph_edges']+df['trie_edges'], color=trie_color)\n",
    "    axr.plot(df['tree_depth'], df['doubled_orig_graph_edges']+df['trie_edges'], color=trie_color)\n",
    "    \n",
    "    axl.plot(df['tree_depth'], df['align_sec'], color=runtime_color, linewidth=4, alpha=1.0)  # 'xkcd:faded green'\n",
    "    plt.margins(x=0)\n",
    "    \n",
    "    plt.savefig('{}-trie-vs-D.pdf'.format(experiment), bbox_inches='tight')\n",
    "\n",
    "plot_trie_tradeoff('ecoli')\n",
    "plot_trie_tradeoff('MHC1')"
   ]
  },
  {
   "cell_type": "code",
   "execution_count": null,
   "metadata": {},
   "outputs": [],
   "source": []
  }
 ],
 "metadata": {
  "kernelspec": {
   "display_name": "Python 3",
   "language": "python",
   "name": "python3"
  },
  "language_info": {
   "codemirror_mode": {
    "name": "ipython",
    "version": 3
   },
   "file_extension": ".py",
   "mimetype": "text/x-python",
   "name": "python",
   "nbconvert_exporter": "python",
   "pygments_lexer": "ipython3",
   "version": "3.6.9"
  }
 },
 "nbformat": 4,
 "nbformat_minor": 4
}
