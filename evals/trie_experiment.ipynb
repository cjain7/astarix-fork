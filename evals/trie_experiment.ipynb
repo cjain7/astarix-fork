{
 "cells": [
  {
   "cell_type": "code",
   "execution_count": 2,
   "metadata": {},
   "outputs": [],
   "source": [
    "from header import *\n",
    "import math\n",
    "plt.rcParams.update({'font.size': 16})"
   ]
  },
  {
   "cell_type": "code",
   "execution_count": 23,
   "metadata": {},
   "outputs": [],
   "source": [
    "def getExperiment(experiment):\n",
    "    trie_experiment_ecoli_dir = Path('experiments/trie_experiment_big/{}'.format(experiment))\n",
    "    stats_files = list(trie_experiment_ecoli_dir.glob('**/stats.log'))\n",
    "    frames = [pd.read_csv(f, sep='\\t') for f in stats_files]\n",
    "    df = pd.concat(frames)\n",
    "    df['doubled_orig_graph_edges'] = df['total_edges'] - df['trie_edges']\n",
    "    df.sort_values(by='tree_depth', inplace=True)\n",
    "    return df\n",
    "\n",
    "dfs = {}\n",
    "dfs['ecoli'] = getExperiment('ecoli_head1000000_linear')\n",
    "dfs['MHC1'] = getExperiment('MHC1_head100000_linear')"
   ]
  },
  {
   "cell_type": "raw",
   "metadata": {},
   "source": [
    "def plot_trie_tradeoff(experiment):\n",
    "    df = dfs[experiment]\n",
    "    D = math.floor(math.log(df.doubled_orig_graph_edges.mean()) / math.log(4))\n",
    "\n",
    "    pal = sns.color_palette(\"Paired\")\n",
    "    green = sns.color_palette(\"BuGn_r\")\n",
    "    runtime_color = green[1]\n",
    "    ref_color = pal[9]\n",
    "    trie_color = pal[8]\n",
    "\n",
    "    fig, axl = plt.subplots()\n",
    "    axl.set_xlabel('D (Trie depth)', size=18)\n",
    "    axr = axl.twinx()  # set up the 2nd axis    \n",
    "\n",
    "    axl.set_ylabel('Align runtime', rotation=0, va='bottom', ha='left', color=green[0], size=18)\n",
    "    axl.yaxis.set_label_coords(-0.13,1.03)\n",
    "    axl.spines[\"left\"].set_visible(False)\n",
    "    axl.yaxis.set_major_formatter(ticker.FuncFormatter(lambda x, pos: '%.0fs' % (x, )))\n",
    "\n",
    "    axr.set_ylabel('#Edges', rotation=0, va='bottom', ha='right', color=ref_color, size=18)\n",
    "    axr.yaxis.set_label_coords(1.10,1.02)\n",
    "    axr.yaxis.set_major_formatter(ticker.FuncFormatter(lambda x, pos: '%.0fM' % (x/10**6, )))\n",
    "\n",
    "    axl.set_facecolor('#F0F0F0')\n",
    "    axl.axvline(D, color='k', linestyle='dashed', linewidth=3, alpha=0.8)\n",
    "    yticks = axr.yaxis.get_major_ticks() \n",
    "    yticks[0].label1.set_visible(False)\n",
    "    axl.text(D, 1.05*max(df['align_sec']), r'$\\lfloor log_4(E) \\rfloor$', ha='center', va='bottom', size=16)\n",
    "    \n",
    "    # spines\n",
    "    for spine in [\"top\", \"left\", \"right\"]:\n",
    "        axl.spines[spine].set_visible(False)\n",
    "        axr.spines[spine].set_visible(False)\n",
    "\n",
    "    axl.tick_params(axis='x', labelsize=16)\n",
    "    axl.tick_params(axis='y', labelcolor=runtime_color, labelsize=16, color=runtime_color)\n",
    "    axr.tick_params(axis='y', labelcolor=ref_color, labelsize=16, color=ref_color)\n",
    "    \n",
    "    axr.stackplot(df['tree_depth'], [ df['doubled_orig_graph_edges'], df['trie_edges'] ],\n",
    "                  labels=['Reference', 'Trie'], colors=[ref_color, trie_color], alpha=0.4)\n",
    "    axr.legend(loc='upper right', bbox_to_anchor=(1.0, 0.8), prop={'size': 16})\n",
    "    axr.plot(df['tree_depth'], df['doubled_orig_graph_edges'], color=ref_color)\n",
    "    axr.plot(df['tree_depth'], df['doubled_orig_graph_edges']+df['trie_edges'], color=trie_color)\n",
    "    axr.plot(df['tree_depth'], df['doubled_orig_graph_edges']+df['trie_edges'], color=trie_color)\n",
    "    \n",
    "    axl.plot(df['tree_depth'], df['align_sec'], color=runtime_color, linewidth=4, alpha=1.0)  # 'xkcd:faded green'\n",
    "    plt.margins(x=0)\n",
    "    \n",
    "    plt.savefig('{}-trie-vs-D.pdf'.format(experiment), bbox_inches='tight')\n",
    "\n",
    "plot_trie_tradeoff('ecoli')\n",
    "plot_trie_tradeoff('MHC1')"
   ]
  }
 ],
 "metadata": {
  "kernelspec": {
   "display_name": "Python 3",
   "language": "python",
   "name": "python3"
  },
  "language_info": {
   "codemirror_mode": {
    "name": "ipython",
    "version": 3
   },
   "file_extension": ".py",
   "mimetype": "text/x-python",
   "name": "python",
   "nbconvert_exporter": "python",
   "pygments_lexer": "ipython3",
   "version": "3.6.8"
  }
 },
 "nbformat": 4,
 "nbformat_minor": 2
}
